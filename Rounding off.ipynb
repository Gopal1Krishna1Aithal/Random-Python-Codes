{
 "cells": [
  {
   "cell_type": "markdown",
   "id": "c4dbdabc-4bd6-414e-a442-5ead5f3b51dd",
   "metadata": {},
   "source": [
    "    **Takes input from the user**"
   ]
  },
  {
   "cell_type": "code",
   "execution_count": 5,
   "id": "cf401016-efe0-4d4b-8f11-a7966b8f3c15",
   "metadata": {},
   "outputs": [
    {
     "name": "stdin",
     "output_type": "stream",
     "text": [
      "Enter a number:  3.3\n",
      "Enter the digits to be rouunded off to:  2\n"
     ]
    }
   ],
   "source": [
    "input_number = input(\"Enter a number: \")\n",
    "b = int(input(\"Enter the digits to be rouunded off to: \"))"
   ]
  },
  {
   "cell_type": "markdown",
   "id": "bc24bd22-1a75-41d4-83e2-7bbb616c3a69",
   "metadata": {},
   "source": [
    "    **Splits the number the user has entered**"
   ]
  },
  {
   "cell_type": "code",
   "execution_count": 6,
   "id": "1a5f4881-17ec-4175-8348-93e9a358edb8",
   "metadata": {},
   "outputs": [
    {
     "name": "stdout",
     "output_type": "stream",
     "text": [
      "['3', '3']\n"
     ]
    }
   ],
   "source": [
    "a = input_number.split(\".\")\n",
    "number = float(input_number)\n",
    "print(a)"
   ]
  },
  {
   "cell_type": "markdown",
   "id": "b3ca0ede-f1b1-4a08-a688-445f6eed2e14",
   "metadata": {},
   "source": [
    "    **Rounds off the number**"
   ]
  },
  {
   "cell_type": "code",
   "execution_count": 7,
   "id": "8deb0d5a-6db6-4cb1-857a-ce8fb0b8c3db",
   "metadata": {},
   "outputs": [
    {
     "ename": "IndexError",
     "evalue": "string index out of range",
     "output_type": "error",
     "traceback": [
      "\u001b[1;31m---------------------------------------------------------------------------\u001b[0m",
      "\u001b[1;31mIndexError\u001b[0m                                Traceback (most recent call last)",
      "Cell \u001b[1;32mIn[7], line 2\u001b[0m\n\u001b[0;32m      1\u001b[0m k \u001b[38;5;241m=\u001b[39m a[\u001b[38;5;241m1\u001b[39m]\u001b[38;5;66;03m#Gives the decimal part of the number \u001b[39;00m\n\u001b[1;32m----> 2\u001b[0m \u001b[38;5;28;01mif\u001b[39;00m(\u001b[38;5;28mint\u001b[39m(k[b])\u001b[38;5;241m>\u001b[39m\u001b[38;5;241m=\u001b[39m\u001b[38;5;241m5\u001b[39m):\n\u001b[0;32m      3\u001b[0m     new_number1 \u001b[38;5;241m=\u001b[39m input_number[\u001b[38;5;241m0\u001b[39m:(b\u001b[38;5;241m+\u001b[39m\u001b[38;5;241m2\u001b[39m)]\n\u001b[0;32m      4\u001b[0m     new_number \u001b[38;5;241m=\u001b[39m \u001b[38;5;28mfloat\u001b[39m(new_number1)\n",
      "\u001b[1;31mIndexError\u001b[0m: string index out of range"
     ]
    }
   ],
   "source": [
    "k = a[1]#Gives the decimal part of the number \n",
    "if(int(k[b])>=5):\n",
    "    new_number1 = input_number[0:(b+2)]\n",
    "    new_number = float(new_number1)\n",
    "    round_number = new_number + (10**(-b))\n",
    "else:\n",
    "    print(input_number[0:(b+2)])\n",
    "\n"
   ]
  },
  {
   "cell_type": "code",
   "execution_count": null,
   "id": "d6c86498-4b97-4a4a-bd6f-4657327f638f",
   "metadata": {},
   "outputs": [],
   "source": []
  }
 ],
 "metadata": {
  "kernelspec": {
   "display_name": "Python 3 (ipykernel)",
   "language": "python",
   "name": "python3"
  },
  "language_info": {
   "codemirror_mode": {
    "name": "ipython",
    "version": 3
   },
   "file_extension": ".py",
   "mimetype": "text/x-python",
   "name": "python",
   "nbconvert_exporter": "python",
   "pygments_lexer": "ipython3",
   "version": "3.12.7"
  }
 },
 "nbformat": 4,
 "nbformat_minor": 5
}
