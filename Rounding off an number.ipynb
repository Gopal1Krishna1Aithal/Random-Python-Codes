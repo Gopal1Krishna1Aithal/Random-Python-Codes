{
 "cells": [
  {
   "cell_type": "code",
   "execution_count": 34,
   "id": "986bc092",
   "metadata": {},
   "outputs": [
    {
     "name": "stdout",
     "output_type": "stream",
     "text": [
      "Enter the number: 3.6\n",
      "Enter the number of digits to be rounded off to: 3\n"
     ]
    }
   ],
   "source": [
    "a = input(\"Enter the number: \")\n",
    "b = int(input(\"Enter the number of digits to be rounded off to: \"))"
   ]
  },
  {
   "cell_type": "code",
   "execution_count": 35,
   "id": "5b4bd3e2",
   "metadata": {},
   "outputs": [
    {
     "name": "stdout",
     "output_type": "stream",
     "text": [
      "Cant round off.\n",
      "Number of dgits to round of greater than the number of digits in the decimal place\n"
     ]
    }
   ],
   "source": [
    "k = a.split(\".\")\n",
    "q = k[1]\n",
    "if((len(q)+1)>=b):\n",
    "    w = a[0:(b+3)]\n",
    "    r = int(w[len(w)-1])\n",
    "    if(r>=5):\n",
    "        t = float(a[0:(b+2)]) + 10**(-b)\n",
    "        print(t)\n",
    "    else:\n",
    "        print(a[0:(b+2)])\n",
    "        \n",
    "else:\n",
    "    print(\"Can't round off.\")\n",
    "    print(\"Number of digts to round of greater than the number of digits in the decimal place\")"
   ]
  },
  {
   "cell_type": "markdown",
   "id": "8305c201",
   "metadata": {},
   "source": [
    "                                            --OPTIMIZED CODE-- "
   ]
  },
  {
   "cell_type": "code",
   "execution_count": 36,
   "id": "8d774493",
   "metadata": {},
   "outputs": [
    {
     "name": "stdout",
     "output_type": "stream",
     "text": [
      "Enter the number: 36\n",
      "Enter the number of digits to be rounded off to: 3\n",
      "Error: The number must have a decimal part.\n"
     ]
    }
   ],
   "source": [
    "try:\n",
    "    a = input(\"Enter the number: \")\n",
    "    b = int(input(\"Enter the number of digits to be rounded off to: \"))\n",
    "    \n",
    "    # Check if the number contains a decimal point\n",
    "    if \".\" not in a:\n",
    "        raise ValueError(\"The number must have a decimal part.\")\n",
    "    \n",
    "    integer_part, decimal_part = a.split(\".\")\n",
    "    \n",
    "    # If the number of digits to round to is more than the decimal places available\n",
    "    if b > len(decimal_part):\n",
    "        raise ValueError(f\"Cannot round off to {b} digits because the number has only {len(decimal_part)} decimal places.\")\n",
    "    \n",
    "    # Determine the rounding decision based on the (b+1)th digit\n",
    "    rounding_digit = int(decimal_part[b]) if b < len(decimal_part) else 0\n",
    "    \n",
    "    # Round and format the result\n",
    "    rounded_number = float(f\"{a[:len(integer_part) + b + 1]}\")\n",
    "    \n",
    "    if rounding_digit >= 5:\n",
    "        # Add 10^(-b) to the number to perform rounding\n",
    "        rounded_number += 10**(-b)\n",
    "    \n",
    "    # Print the result with the desired precision\n",
    "    print(f\"{rounded_number:.{b}f}\")\n",
    "\n",
    "except ValueError as e:\n",
    "    print(f\"Error: {e}\")\n",
    "except Exception as e:\n",
    "    print(f\"An unexpected error occurred: {e}\")\n"
   ]
  },
  {
   "cell_type": "code",
   "execution_count": null,
   "id": "730d1a22",
   "metadata": {},
   "outputs": [],
   "source": []
  }
 ],
 "metadata": {
  "kernelspec": {
   "display_name": "Python 3 (ipykernel)",
   "language": "python",
   "name": "python3"
  },
  "language_info": {
   "codemirror_mode": {
    "name": "ipython",
    "version": 3
   },
   "file_extension": ".py",
   "mimetype": "text/x-python",
   "name": "python",
   "nbconvert_exporter": "python",
   "pygments_lexer": "ipython3",
   "version": "3.11.5"
  }
 },
 "nbformat": 4,
 "nbformat_minor": 5
}
